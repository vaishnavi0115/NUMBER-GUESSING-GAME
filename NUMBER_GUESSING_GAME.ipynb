{
  "nbformat": 4,
  "nbformat_minor": 0,
  "metadata": {
    "colab": {
      "provenance": []
    },
    "kernelspec": {
      "name": "python3",
      "display_name": "Python 3"
    },
    "language_info": {
      "name": "python"
    }
  },
  "cells": [
    {
      "cell_type": "code",
      "source": [
        "import random\n",
        "\n",
        "def number_guessing_game():\n",
        "    # Generate a random number between 1 and 100\n",
        "    number_to_guess = random.randint(1, 100)\n",
        "    attempts = 0\n",
        "\n",
        "    print(\"Welcome to the Number Guessing Game!\")\n",
        "    print(\"I have selected a number between 1 and 100. Try to guess it!\")\n",
        "\n",
        "    while True:\n",
        "        # Take the user's guess as input\n",
        "        guess = int(input(\"Enter your guess: \"))\n",
        "        attempts += 1\n",
        "\n",
        "        # Check if the guess is too low, too high, or correct\n",
        "        if guess < number_to_guess:\n",
        "            print(\"Too low! Try again.\")\n",
        "        elif guess > number_to_guess:\n",
        "            print(\"Too high! Try again.\")\n",
        "        else:\n",
        "            print(f\"Congratulations! You've guessed the correct number {number_to_guess} in {attempts} attempts.\")\n",
        "            break\n",
        "\n",
        "# Call the function to start the game\n",
        "number_guessing_game()\n"
      ],
      "metadata": {
        "colab": {
          "base_uri": "https://localhost:8080/"
        },
        "id": "AU7FNqQHdYbH",
        "outputId": "d36c6819-081e-4b4e-89ff-5ccde2c7ecd0"
      },
      "execution_count": 2,
      "outputs": [
        {
          "output_type": "stream",
          "name": "stdout",
          "text": [
            "Welcome to the Number Guessing Game!\n",
            "I have selected a number between 1 and 100. Try to guess it!\n",
            "Enter your guess: 76\n",
            "Too high! Try again.\n",
            "Enter your guess: 4\n",
            "Too low! Try again.\n",
            "Enter your guess: 50\n",
            "Too low! Try again.\n",
            "Enter your guess: 60\n",
            "Too high! Try again.\n",
            "Enter your guess: 55\n",
            "Too low! Try again.\n",
            "Enter your guess: 51\n",
            "Too low! Try again.\n",
            "Enter your guess: 70\n",
            "Too high! Try again.\n",
            "Enter your guess: 52\n",
            "Too low! Try again.\n",
            "Enter your guess: 53\n",
            "Too low! Try again.\n",
            "Enter your guess: 54\n",
            "Too low! Try again.\n",
            "Enter your guess: 56\n",
            "Congratulations! You've guessed the correct number 56 in 11 attempts.\n"
          ]
        }
      ]
    }
  ]
}